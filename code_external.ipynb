{
  "cells": [
    {
      "cell_type": "code",
      "source": [
        "from google.colab import drive\n",
        "drive.mount('/content/drive/')\n",
        "# Import necessary libraries\n",
        "from sklearn import datasets\n",
        "import pandas as pd  # to load the dataframe\n",
        "from sklearn.preprocessing import StandardScaler  # to standardize the features\n",
        "from sklearn.decomposition import PCA  # to apply PCA\n",
        "import seaborn as sns  # to plot the heat maps"
      ],
      "metadata": {
        "id": "uIFEG-7Cb_7w",
        "colab": {
          "base_uri": "https://localhost:8080/"
        },
        "outputId": "ba366376-529e-4258-9a93-eadabd478026"
      },
      "execution_count": null,
      "outputs": [
        {
          "output_type": "stream",
          "name": "stdout",
          "text": [
            "Mounted at /content/drive/\n"
          ]
        }
      ]
    },
    {
      "cell_type": "code",
      "source": [
        "from google.colab import drive\n",
        "drive.mount('/content/drive/')#Load the Dataset\n",
        "iris = datasets.load_iris()\n",
        "#convert the dataset into a pandas data frame\n",
        "df = pd.read_csv(\"/content/drive/MyDrive/train_final.csv\")\n",
        "train_df=df\n",
        "train_dof=df\n",
        "#display the head (first 5 rows) of the dataset\n",
        "df.head()\n",
        "df=df.dropna()\n",
        "\n"
      ],
      "metadata": {
        "id": "LRyYvw92cBbW",
        "colab": {
          "base_uri": "https://localhost:8080/"
        },
        "outputId": "f9650e1c-2a2f-4dbc-80f0-f463c446b525"
      },
      "execution_count": null,
      "outputs": [
        {
          "output_type": "stream",
          "name": "stdout",
          "text": [
            "Drive already mounted at /content/drive/; to attempt to forcibly remount, call drive.mount(\"/content/drive/\", force_remount=True).\n"
          ]
        }
      ]
    },
    {
      "cell_type": "code",
      "source": [
        "print(df.shape)"
      ],
      "metadata": {
        "id": "k7ooPMf3khBA",
        "colab": {
          "base_uri": "https://localhost:8080/"
        },
        "outputId": "7483c95c-048a-4b38-ec34-3ea21ac4d855"
      },
      "execution_count": null,
      "outputs": [
        {
          "output_type": "stream",
          "name": "stdout",
          "text": [
            "(405120, 10)\n"
          ]
        }
      ]
    },
    {
      "cell_type": "code",
      "source": [
        "print(df.head())"
      ],
      "metadata": {
        "id": "K7RoV-MCkvut",
        "colab": {
          "base_uri": "https://localhost:8080/"
        },
        "outputId": "f22533c8-4754-4604-a263-3f09e083157a"
      },
      "execution_count": null,
      "outputs": [
        {
          "output_type": "stream",
          "name": "stdout",
          "text": [
            "   priority  cpu_resource_request  scheduling_class  memory_resource_request  \\\n",
            "0       200              0.020660                 3                 0.014435   \n",
            "1       360              0.007240                 2                 0.001303   \n",
            "2       103              0.048584                 2                 0.004166   \n",
            "3       200              0.070435                 3                 0.041626   \n",
            "4         0              0.002449                 2                 0.000232   \n",
            "\n",
            "   cpu_average_usage  memory_average_usage  assigned_memory    machine_id  \\\n",
            "0           0.004662          5.920410e-03         0.014435  1.690000e+11   \n",
            "1           0.000000          9.540000e-07         0.000000  8.551509e+07   \n",
            "2           0.024200          2.788544e-03         0.010422  1.690000e+11   \n",
            "3           0.047607          3.442383e-02         0.041626  1.780000e+11   \n",
            "4           0.000271          7.630000e-05         0.000272  2.310000e+11   \n",
            "\n",
            "   page_cache_memory  failed  \n",
            "0           0.000415       1  \n",
            "1           0.000000       1  \n",
            "2           0.000235       0  \n",
            "3           0.000225       1  \n",
            "4           0.000010       0  \n"
          ]
        }
      ]
    },
    {
      "cell_type": "code",
      "source": [
        "y=df.iloc[:,-1]\n",
        "print(y.shape)"
      ],
      "metadata": {
        "id": "CmLvMHTjcEP7",
        "colab": {
          "base_uri": "https://localhost:8080/"
        },
        "outputId": "c0e1be46-955f-403e-a96c-aad72a496b12"
      },
      "execution_count": null,
      "outputs": [
        {
          "output_type": "stream",
          "name": "stdout",
          "text": [
            "(405120,)\n"
          ]
        }
      ]
    },
    {
      "cell_type": "code",
      "source": [
        "new_df=df.drop(\"failed\",axis=1)\n",
        "new_df=df.drop(\"priority\",axis=1)\n",
        "new_df=new_df.dropna()\n",
        "print(new_df.shape)\n",
        "print(new_df)"
      ],
      "metadata": {
        "id": "gIKAS9o4cHl2",
        "colab": {
          "base_uri": "https://localhost:8080/"
        },
        "outputId": "64baddf7-9ce9-40c7-d110-beee99a207e9"
      },
      "execution_count": null,
      "outputs": [
        {
          "output_type": "stream",
          "name": "stdout",
          "text": [
            "(405120, 9)\n",
            "        cpu_resource_request  scheduling_class  memory_resource_request  \\\n",
            "0                   0.020660                 3                 0.014435   \n",
            "1                   0.007240                 2                 0.001303   \n",
            "2                   0.048584                 2                 0.004166   \n",
            "3                   0.070435                 3                 0.041626   \n",
            "4                   0.002449                 2                 0.000232   \n",
            "...                      ...               ...                      ...   \n",
            "405889              0.035950                 1                 0.015488   \n",
            "405890              0.021973                 2                 0.001303   \n",
            "405891              0.121460                 3                 0.082642   \n",
            "405892              0.005669                 1                 0.001562   \n",
            "405893              0.016296                 2                 0.001303   \n",
            "\n",
            "        cpu_average_usage  memory_average_usage  assigned_memory  \\\n",
            "0                0.004662          5.920410e-03         0.014435   \n",
            "1                0.000000          9.540000e-07         0.000000   \n",
            "2                0.024200          2.788544e-03         0.010422   \n",
            "3                0.047607          3.442383e-02         0.041626   \n",
            "4                0.000271          7.630000e-05         0.000272   \n",
            "...                   ...                   ...              ...   \n",
            "405889           0.015320          1.501083e-03         0.002117   \n",
            "405890           0.038147          1.998901e-02         0.000000   \n",
            "405891           0.023560          7.580566e-02         0.000000   \n",
            "405892           0.006004          9.822850e-04         0.001562   \n",
            "405893           0.011993          8.544922e-03         0.000000   \n",
            "\n",
            "          machine_id  page_cache_memory  failed  \n",
            "0       1.690000e+11           0.000415       1  \n",
            "1       8.551509e+07           0.000000       1  \n",
            "2       1.690000e+11           0.000235       0  \n",
            "3       1.780000e+11           0.000225       1  \n",
            "4       2.310000e+11           0.000010       0  \n",
            "...              ...                ...     ...  \n",
            "405889  1.062546e+10           0.000048       1  \n",
            "405890  6.866988e+10           0.002468       0  \n",
            "405891  1.270000e+11           0.000480       0  \n",
            "405892  1.920000e+11           0.000229       1  \n",
            "405893  3.234333e+10           0.001204       0  \n",
            "\n",
            "[405120 rows x 9 columns]\n"
          ]
        }
      ]
    },
    {
      "cell_type": "code",
      "source": [
        "scalar = StandardScaler()\n",
        "scaled_data = pd.DataFrame(scalar.fit_transform(new_df)) #scaling the data\n",
        "scaled_data"
      ],
      "metadata": {
        "id": "LdUKjTI2cKys",
        "colab": {
          "base_uri": "https://localhost:8080/"
        },
        "outputId": "fec304a8-3a3e-4b2b-cabe-2af93e081854"
      },
      "execution_count": null,
      "outputs": [
        {
          "output_type": "execute_result",
          "data": {
            "text/plain": [
              "               0         1         2         3         4         5         6  \\\n",
              "0       0.185855  1.715109  0.241845 -0.149372  0.017730  0.221429  0.609572   \n",
              "1      -0.282633  0.727298 -0.347047 -0.400541 -0.339948 -0.357380 -0.615672   \n",
              "2       1.160651  0.727298 -0.218663  0.903401 -0.171510  0.060513  0.609572   \n",
              "3       1.923443  1.715109  1.461198  2.164592  1.740024  1.311745  0.674855   \n",
              "4      -0.449893  0.727298 -0.395074 -0.385948 -0.335395 -0.346481  1.059297   \n",
              "...          ...       ...       ...       ...       ...       ...       ...   \n",
              "405115  0.719596 -0.260512  0.289059  0.424905 -0.249304 -0.272486 -0.539219   \n",
              "405116  0.231665  0.727298 -0.347047  1.654854  0.867813 -0.357380 -0.118186   \n",
              "405117  3.704710  1.715109  3.300491  0.868871  4.240484 -0.357380  0.304919   \n",
              "405118 -0.337498 -0.260512 -0.335415 -0.077022 -0.280652 -0.294742  0.776406   \n",
              "405119  0.033510  0.727298 -0.347047  0.245675  0.176314 -0.357380 -0.381685   \n",
              "\n",
              "               7         8  \n",
              "0       0.029705  1.840749  \n",
              "1      -0.724500  1.840749  \n",
              "2      -0.297984 -0.543257  \n",
              "3      -0.315322  1.840749  \n",
              "4      -0.707156 -0.543257  \n",
              "...          ...       ...  \n",
              "405115 -0.637780  1.840749  \n",
              "405116  3.762586 -0.543257  \n",
              "405117  0.147604 -0.543257  \n",
              "405118 -0.308386  1.840749  \n",
              "405119  1.463562 -0.543257  \n",
              "\n",
              "[405120 rows x 9 columns]"
            ],
            "text/html": [
              "\n",
              "  <div id=\"df-cbe32924-9432-4d08-a249-7ab4afe0b519\">\n",
              "    <div class=\"colab-df-container\">\n",
              "      <div>\n",
              "<style scoped>\n",
              "    .dataframe tbody tr th:only-of-type {\n",
              "        vertical-align: middle;\n",
              "    }\n",
              "\n",
              "    .dataframe tbody tr th {\n",
              "        vertical-align: top;\n",
              "    }\n",
              "\n",
              "    .dataframe thead th {\n",
              "        text-align: right;\n",
              "    }\n",
              "</style>\n",
              "<table border=\"1\" class=\"dataframe\">\n",
              "  <thead>\n",
              "    <tr style=\"text-align: right;\">\n",
              "      <th></th>\n",
              "      <th>0</th>\n",
              "      <th>1</th>\n",
              "      <th>2</th>\n",
              "      <th>3</th>\n",
              "      <th>4</th>\n",
              "      <th>5</th>\n",
              "      <th>6</th>\n",
              "      <th>7</th>\n",
              "      <th>8</th>\n",
              "    </tr>\n",
              "  </thead>\n",
              "  <tbody>\n",
              "    <tr>\n",
              "      <th>0</th>\n",
              "      <td>0.185855</td>\n",
              "      <td>1.715109</td>\n",
              "      <td>0.241845</td>\n",
              "      <td>-0.149372</td>\n",
              "      <td>0.017730</td>\n",
              "      <td>0.221429</td>\n",
              "      <td>0.609572</td>\n",
              "      <td>0.029705</td>\n",
              "      <td>1.840749</td>\n",
              "    </tr>\n",
              "    <tr>\n",
              "      <th>1</th>\n",
              "      <td>-0.282633</td>\n",
              "      <td>0.727298</td>\n",
              "      <td>-0.347047</td>\n",
              "      <td>-0.400541</td>\n",
              "      <td>-0.339948</td>\n",
              "      <td>-0.357380</td>\n",
              "      <td>-0.615672</td>\n",
              "      <td>-0.724500</td>\n",
              "      <td>1.840749</td>\n",
              "    </tr>\n",
              "    <tr>\n",
              "      <th>2</th>\n",
              "      <td>1.160651</td>\n",
              "      <td>0.727298</td>\n",
              "      <td>-0.218663</td>\n",
              "      <td>0.903401</td>\n",
              "      <td>-0.171510</td>\n",
              "      <td>0.060513</td>\n",
              "      <td>0.609572</td>\n",
              "      <td>-0.297984</td>\n",
              "      <td>-0.543257</td>\n",
              "    </tr>\n",
              "    <tr>\n",
              "      <th>3</th>\n",
              "      <td>1.923443</td>\n",
              "      <td>1.715109</td>\n",
              "      <td>1.461198</td>\n",
              "      <td>2.164592</td>\n",
              "      <td>1.740024</td>\n",
              "      <td>1.311745</td>\n",
              "      <td>0.674855</td>\n",
              "      <td>-0.315322</td>\n",
              "      <td>1.840749</td>\n",
              "    </tr>\n",
              "    <tr>\n",
              "      <th>4</th>\n",
              "      <td>-0.449893</td>\n",
              "      <td>0.727298</td>\n",
              "      <td>-0.395074</td>\n",
              "      <td>-0.385948</td>\n",
              "      <td>-0.335395</td>\n",
              "      <td>-0.346481</td>\n",
              "      <td>1.059297</td>\n",
              "      <td>-0.707156</td>\n",
              "      <td>-0.543257</td>\n",
              "    </tr>\n",
              "    <tr>\n",
              "      <th>...</th>\n",
              "      <td>...</td>\n",
              "      <td>...</td>\n",
              "      <td>...</td>\n",
              "      <td>...</td>\n",
              "      <td>...</td>\n",
              "      <td>...</td>\n",
              "      <td>...</td>\n",
              "      <td>...</td>\n",
              "      <td>...</td>\n",
              "    </tr>\n",
              "    <tr>\n",
              "      <th>405115</th>\n",
              "      <td>0.719596</td>\n",
              "      <td>-0.260512</td>\n",
              "      <td>0.289059</td>\n",
              "      <td>0.424905</td>\n",
              "      <td>-0.249304</td>\n",
              "      <td>-0.272486</td>\n",
              "      <td>-0.539219</td>\n",
              "      <td>-0.637780</td>\n",
              "      <td>1.840749</td>\n",
              "    </tr>\n",
              "    <tr>\n",
              "      <th>405116</th>\n",
              "      <td>0.231665</td>\n",
              "      <td>0.727298</td>\n",
              "      <td>-0.347047</td>\n",
              "      <td>1.654854</td>\n",
              "      <td>0.867813</td>\n",
              "      <td>-0.357380</td>\n",
              "      <td>-0.118186</td>\n",
              "      <td>3.762586</td>\n",
              "      <td>-0.543257</td>\n",
              "    </tr>\n",
              "    <tr>\n",
              "      <th>405117</th>\n",
              "      <td>3.704710</td>\n",
              "      <td>1.715109</td>\n",
              "      <td>3.300491</td>\n",
              "      <td>0.868871</td>\n",
              "      <td>4.240484</td>\n",
              "      <td>-0.357380</td>\n",
              "      <td>0.304919</td>\n",
              "      <td>0.147604</td>\n",
              "      <td>-0.543257</td>\n",
              "    </tr>\n",
              "    <tr>\n",
              "      <th>405118</th>\n",
              "      <td>-0.337498</td>\n",
              "      <td>-0.260512</td>\n",
              "      <td>-0.335415</td>\n",
              "      <td>-0.077022</td>\n",
              "      <td>-0.280652</td>\n",
              "      <td>-0.294742</td>\n",
              "      <td>0.776406</td>\n",
              "      <td>-0.308386</td>\n",
              "      <td>1.840749</td>\n",
              "    </tr>\n",
              "    <tr>\n",
              "      <th>405119</th>\n",
              "      <td>0.033510</td>\n",
              "      <td>0.727298</td>\n",
              "      <td>-0.347047</td>\n",
              "      <td>0.245675</td>\n",
              "      <td>0.176314</td>\n",
              "      <td>-0.357380</td>\n",
              "      <td>-0.381685</td>\n",
              "      <td>1.463562</td>\n",
              "      <td>-0.543257</td>\n",
              "    </tr>\n",
              "  </tbody>\n",
              "</table>\n",
              "<p>405120 rows × 9 columns</p>\n",
              "</div>\n",
              "      <button class=\"colab-df-convert\" onclick=\"convertToInteractive('df-cbe32924-9432-4d08-a249-7ab4afe0b519')\"\n",
              "              title=\"Convert this dataframe to an interactive table.\"\n",
              "              style=\"display:none;\">\n",
              "        \n",
              "  <svg xmlns=\"http://www.w3.org/2000/svg\" height=\"24px\"viewBox=\"0 0 24 24\"\n",
              "       width=\"24px\">\n",
              "    <path d=\"M0 0h24v24H0V0z\" fill=\"none\"/>\n",
              "    <path d=\"M18.56 5.44l.94 2.06.94-2.06 2.06-.94-2.06-.94-.94-2.06-.94 2.06-2.06.94zm-11 1L8.5 8.5l.94-2.06 2.06-.94-2.06-.94L8.5 2.5l-.94 2.06-2.06.94zm10 10l.94 2.06.94-2.06 2.06-.94-2.06-.94-.94-2.06-.94 2.06-2.06.94z\"/><path d=\"M17.41 7.96l-1.37-1.37c-.4-.4-.92-.59-1.43-.59-.52 0-1.04.2-1.43.59L10.3 9.45l-7.72 7.72c-.78.78-.78 2.05 0 2.83L4 21.41c.39.39.9.59 1.41.59.51 0 1.02-.2 1.41-.59l7.78-7.78 2.81-2.81c.8-.78.8-2.07 0-2.86zM5.41 20L4 18.59l7.72-7.72 1.47 1.35L5.41 20z\"/>\n",
              "  </svg>\n",
              "      </button>\n",
              "      \n",
              "  <style>\n",
              "    .colab-df-container {\n",
              "      display:flex;\n",
              "      flex-wrap:wrap;\n",
              "      gap: 12px;\n",
              "    }\n",
              "\n",
              "    .colab-df-convert {\n",
              "      background-color: #E8F0FE;\n",
              "      border: none;\n",
              "      border-radius: 50%;\n",
              "      cursor: pointer;\n",
              "      display: none;\n",
              "      fill: #1967D2;\n",
              "      height: 32px;\n",
              "      padding: 0 0 0 0;\n",
              "      width: 32px;\n",
              "    }\n",
              "\n",
              "    .colab-df-convert:hover {\n",
              "      background-color: #E2EBFA;\n",
              "      box-shadow: 0px 1px 2px rgba(60, 64, 67, 0.3), 0px 1px 3px 1px rgba(60, 64, 67, 0.15);\n",
              "      fill: #174EA6;\n",
              "    }\n",
              "\n",
              "    [theme=dark] .colab-df-convert {\n",
              "      background-color: #3B4455;\n",
              "      fill: #D2E3FC;\n",
              "    }\n",
              "\n",
              "    [theme=dark] .colab-df-convert:hover {\n",
              "      background-color: #434B5C;\n",
              "      box-shadow: 0px 1px 3px 1px rgba(0, 0, 0, 0.15);\n",
              "      filter: drop-shadow(0px 1px 2px rgba(0, 0, 0, 0.3));\n",
              "      fill: #FFFFFF;\n",
              "    }\n",
              "  </style>\n",
              "\n",
              "      <script>\n",
              "        const buttonEl =\n",
              "          document.querySelector('#df-cbe32924-9432-4d08-a249-7ab4afe0b519 button.colab-df-convert');\n",
              "        buttonEl.style.display =\n",
              "          google.colab.kernel.accessAllowed ? 'block' : 'none';\n",
              "\n",
              "        async function convertToInteractive(key) {\n",
              "          const element = document.querySelector('#df-cbe32924-9432-4d08-a249-7ab4afe0b519');\n",
              "          const dataTable =\n",
              "            await google.colab.kernel.invokeFunction('convertToInteractive',\n",
              "                                                     [key], {});\n",
              "          if (!dataTable) return;\n",
              "\n",
              "          const docLinkHtml = 'Like what you see? Visit the ' +\n",
              "            '<a target=\"_blank\" href=https://colab.research.google.com/notebooks/data_table.ipynb>data table notebook</a>'\n",
              "            + ' to learn more about interactive tables.';\n",
              "          element.innerHTML = '';\n",
              "          dataTable['output_type'] = 'display_data';\n",
              "          await google.colab.output.renderOutput(dataTable, element);\n",
              "          const docLink = document.createElement('div');\n",
              "          docLink.innerHTML = docLinkHtml;\n",
              "          element.appendChild(docLink);\n",
              "        }\n",
              "      </script>\n",
              "    </div>\n",
              "  </div>\n",
              "  "
            ]
          },
          "metadata": {},
          "execution_count": 8
        }
      ]
    },
    {
      "cell_type": "code",
      "source": [
        "pca = PCA(n_components = 8)\n",
        "pca.fit(scaled_data)\n",
        "data_pca = pca.transform(scaled_data)\n",
        "data_pca = pd.DataFrame(data_pca,columns=['0','1','2','3','4','5','6','7'])\n",
        "data_pca.head()"
      ],
      "metadata": {
        "id": "N_XF4CQacPUU",
        "colab": {
          "base_uri": "https://localhost:8080/"
        },
        "outputId": "42070ec6-3517-4177-bdcb-edced38d985d"
      },
      "execution_count": null,
      "outputs": [
        {
          "output_type": "execute_result",
          "data": {
            "text/plain": [
              "          0         1         2         3         4         5         6  \\\n",
              "0  0.383960 -1.648569 -1.842431  0.097582 -0.481787 -0.513258  0.257465   \n",
              "1 -0.867716 -1.311469 -0.799031  0.071044 -1.512657 -0.085711 -0.052259   \n",
              "2  0.688027 -0.683065  0.425250  1.096732  0.869300 -0.527087  0.019689   \n",
              "3  3.747466 -1.905356 -1.265087  1.470919 -0.719214 -0.278691 -0.288025   \n",
              "4 -0.870059  0.094120 -0.538614  0.538788  0.766856 -1.079779 -0.291275   \n",
              "\n",
              "          7  \n",
              "0  0.086521  \n",
              "1  0.103419  \n",
              "2  0.234664  \n",
              "3 -0.175810  \n",
              "4 -0.022084  "
            ],
            "text/html": [
              "\n",
              "  <div id=\"df-fb98316c-4c8e-4791-b782-b3ac1277ec8c\">\n",
              "    <div class=\"colab-df-container\">\n",
              "      <div>\n",
              "<style scoped>\n",
              "    .dataframe tbody tr th:only-of-type {\n",
              "        vertical-align: middle;\n",
              "    }\n",
              "\n",
              "    .dataframe tbody tr th {\n",
              "        vertical-align: top;\n",
              "    }\n",
              "\n",
              "    .dataframe thead th {\n",
              "        text-align: right;\n",
              "    }\n",
              "</style>\n",
              "<table border=\"1\" class=\"dataframe\">\n",
              "  <thead>\n",
              "    <tr style=\"text-align: right;\">\n",
              "      <th></th>\n",
              "      <th>0</th>\n",
              "      <th>1</th>\n",
              "      <th>2</th>\n",
              "      <th>3</th>\n",
              "      <th>4</th>\n",
              "      <th>5</th>\n",
              "      <th>6</th>\n",
              "      <th>7</th>\n",
              "    </tr>\n",
              "  </thead>\n",
              "  <tbody>\n",
              "    <tr>\n",
              "      <th>0</th>\n",
              "      <td>0.383960</td>\n",
              "      <td>-1.648569</td>\n",
              "      <td>-1.842431</td>\n",
              "      <td>0.097582</td>\n",
              "      <td>-0.481787</td>\n",
              "      <td>-0.513258</td>\n",
              "      <td>0.257465</td>\n",
              "      <td>0.086521</td>\n",
              "    </tr>\n",
              "    <tr>\n",
              "      <th>1</th>\n",
              "      <td>-0.867716</td>\n",
              "      <td>-1.311469</td>\n",
              "      <td>-0.799031</td>\n",
              "      <td>0.071044</td>\n",
              "      <td>-1.512657</td>\n",
              "      <td>-0.085711</td>\n",
              "      <td>-0.052259</td>\n",
              "      <td>0.103419</td>\n",
              "    </tr>\n",
              "    <tr>\n",
              "      <th>2</th>\n",
              "      <td>0.688027</td>\n",
              "      <td>-0.683065</td>\n",
              "      <td>0.425250</td>\n",
              "      <td>1.096732</td>\n",
              "      <td>0.869300</td>\n",
              "      <td>-0.527087</td>\n",
              "      <td>0.019689</td>\n",
              "      <td>0.234664</td>\n",
              "    </tr>\n",
              "    <tr>\n",
              "      <th>3</th>\n",
              "      <td>3.747466</td>\n",
              "      <td>-1.905356</td>\n",
              "      <td>-1.265087</td>\n",
              "      <td>1.470919</td>\n",
              "      <td>-0.719214</td>\n",
              "      <td>-0.278691</td>\n",
              "      <td>-0.288025</td>\n",
              "      <td>-0.175810</td>\n",
              "    </tr>\n",
              "    <tr>\n",
              "      <th>4</th>\n",
              "      <td>-0.870059</td>\n",
              "      <td>0.094120</td>\n",
              "      <td>-0.538614</td>\n",
              "      <td>0.538788</td>\n",
              "      <td>0.766856</td>\n",
              "      <td>-1.079779</td>\n",
              "      <td>-0.291275</td>\n",
              "      <td>-0.022084</td>\n",
              "    </tr>\n",
              "  </tbody>\n",
              "</table>\n",
              "</div>\n",
              "      <button class=\"colab-df-convert\" onclick=\"convertToInteractive('df-fb98316c-4c8e-4791-b782-b3ac1277ec8c')\"\n",
              "              title=\"Convert this dataframe to an interactive table.\"\n",
              "              style=\"display:none;\">\n",
              "        \n",
              "  <svg xmlns=\"http://www.w3.org/2000/svg\" height=\"24px\"viewBox=\"0 0 24 24\"\n",
              "       width=\"24px\">\n",
              "    <path d=\"M0 0h24v24H0V0z\" fill=\"none\"/>\n",
              "    <path d=\"M18.56 5.44l.94 2.06.94-2.06 2.06-.94-2.06-.94-.94-2.06-.94 2.06-2.06.94zm-11 1L8.5 8.5l.94-2.06 2.06-.94-2.06-.94L8.5 2.5l-.94 2.06-2.06.94zm10 10l.94 2.06.94-2.06 2.06-.94-2.06-.94-.94-2.06-.94 2.06-2.06.94z\"/><path d=\"M17.41 7.96l-1.37-1.37c-.4-.4-.92-.59-1.43-.59-.52 0-1.04.2-1.43.59L10.3 9.45l-7.72 7.72c-.78.78-.78 2.05 0 2.83L4 21.41c.39.39.9.59 1.41.59.51 0 1.02-.2 1.41-.59l7.78-7.78 2.81-2.81c.8-.78.8-2.07 0-2.86zM5.41 20L4 18.59l7.72-7.72 1.47 1.35L5.41 20z\"/>\n",
              "  </svg>\n",
              "      </button>\n",
              "      \n",
              "  <style>\n",
              "    .colab-df-container {\n",
              "      display:flex;\n",
              "      flex-wrap:wrap;\n",
              "      gap: 12px;\n",
              "    }\n",
              "\n",
              "    .colab-df-convert {\n",
              "      background-color: #E8F0FE;\n",
              "      border: none;\n",
              "      border-radius: 50%;\n",
              "      cursor: pointer;\n",
              "      display: none;\n",
              "      fill: #1967D2;\n",
              "      height: 32px;\n",
              "      padding: 0 0 0 0;\n",
              "      width: 32px;\n",
              "    }\n",
              "\n",
              "    .colab-df-convert:hover {\n",
              "      background-color: #E2EBFA;\n",
              "      box-shadow: 0px 1px 2px rgba(60, 64, 67, 0.3), 0px 1px 3px 1px rgba(60, 64, 67, 0.15);\n",
              "      fill: #174EA6;\n",
              "    }\n",
              "\n",
              "    [theme=dark] .colab-df-convert {\n",
              "      background-color: #3B4455;\n",
              "      fill: #D2E3FC;\n",
              "    }\n",
              "\n",
              "    [theme=dark] .colab-df-convert:hover {\n",
              "      background-color: #434B5C;\n",
              "      box-shadow: 0px 1px 3px 1px rgba(0, 0, 0, 0.15);\n",
              "      filter: drop-shadow(0px 1px 2px rgba(0, 0, 0, 0.3));\n",
              "      fill: #FFFFFF;\n",
              "    }\n",
              "  </style>\n",
              "\n",
              "      <script>\n",
              "        const buttonEl =\n",
              "          document.querySelector('#df-fb98316c-4c8e-4791-b782-b3ac1277ec8c button.colab-df-convert');\n",
              "        buttonEl.style.display =\n",
              "          google.colab.kernel.accessAllowed ? 'block' : 'none';\n",
              "\n",
              "        async function convertToInteractive(key) {\n",
              "          const element = document.querySelector('#df-fb98316c-4c8e-4791-b782-b3ac1277ec8c');\n",
              "          const dataTable =\n",
              "            await google.colab.kernel.invokeFunction('convertToInteractive',\n",
              "                                                     [key], {});\n",
              "          if (!dataTable) return;\n",
              "\n",
              "          const docLinkHtml = 'Like what you see? Visit the ' +\n",
              "            '<a target=\"_blank\" href=https://colab.research.google.com/notebooks/data_table.ipynb>data table notebook</a>'\n",
              "            + ' to learn more about interactive tables.';\n",
              "          element.innerHTML = '';\n",
              "          dataTable['output_type'] = 'display_data';\n",
              "          await google.colab.output.renderOutput(dataTable, element);\n",
              "          const docLink = document.createElement('div');\n",
              "          docLink.innerHTML = docLinkHtml;\n",
              "          element.appendChild(docLink);\n",
              "        }\n",
              "      </script>\n",
              "    </div>\n",
              "  </div>\n",
              "  "
            ]
          },
          "metadata": {},
          "execution_count": 9
        }
      ]
    },
    {
      "cell_type": "code",
      "source": [
        "x=data_pca"
      ],
      "metadata": {
        "id": "n575WzPZcR32"
      },
      "execution_count": null,
      "outputs": []
    },
    {
      "cell_type": "code",
      "execution_count": null,
      "metadata": {
        "id": "LZdTCfNs7mA9",
        "colab": {
          "base_uri": "https://localhost:8080/"
        },
        "outputId": "333a3c9a-453c-4348-ed4b-3232435e6766"
      },
      "outputs": [
        {
          "output_type": "stream",
          "name": "stdout",
          "text": [
            "Drive already mounted at /content/drive/; to attempt to forcibly remount, call drive.mount(\"/content/drive/\", force_remount=True).\n"
          ]
        }
      ],
      "source": [
        "from google.colab import drive\n",
        "drive.mount('/content/drive/')\n",
        "import numpy as np\n",
        "import pandas as pd\n",
        "import seaborn as sns\n",
        "import matplotlib.pyplot as plt\n",
        "from sklearn.metrics import accuracy_score, f1_score, precision_score, recall_score, classification_report, confusion_matrix\n",
        "from sklearn.model_selection import cross_val_score, GridSearchCV, RandomizedSearchCV\n",
        "from keras.wrappers.scikit_learn import KerasClassifier\n",
        "from sklearn.model_selection import StratifiedKFold\n",
        "from sklearn.model_selection import train_test_split\n",
        "from sklearn.metrics import f1_score\n",
        "from keras.utils.np_utils import to_categorical\n",
        "from sklearn.utils import class_weight\n",
        "from sklearn.metrics import log_loss\n",
        "from tensorflow.keras import layers\n",
        "from tensorflow.keras.models import Sequential\n",
        "from tensorflow.keras.layers import Dense\n",
        "from tensorflow.keras.models import Model, load_model\n",
        "from tensorflow.keras.utils import to_categorical\n",
        "from tensorflow.keras.layers import Dropout\n",
        "from tensorflow.keras.layers import Flatten\n",
        "from tensorflow.keras.layers import Conv1D\n",
        "from tensorflow.keras.layers import MaxPooling1D"
      ]
    },
    {
      "cell_type": "code",
      "execution_count": null,
      "metadata": {
        "id": "QkqsQTPowXT-",
        "colab": {
          "base_uri": "https://localhost:8080/"
        },
        "outputId": "14c9d3ad-12e1-4bdd-d30b-c5aaca94a015"
      },
      "outputs": [
        {
          "output_type": "execute_result",
          "data": {
            "text/plain": [
              "<Axes: xlabel='failed', ylabel='count'>"
            ]
          },
          "metadata": {},
          "execution_count": 12
        },
        {
          "output_type": "display_data",
          "data": {
            "text/plain": [
              "<Figure size 640x480 with 1 Axes>"
            ],
            "image/png": "[encoded data removed]"
          },
          "metadata": {}
        }
      ],
      "source": [
        "import seaborn as sns\n",
        "sns.countplot(x=\"failed\", data = df)"
      ]
    },
    {
      "cell_type": "markdown",
      "metadata": {
        "id": "xIOHloxSK1Gd"
      },
      "source": [
        "Reshape X_train and X_test to 3D since Conv1D requires 3D data"
      ]
    },
    {
      "cell_type": "code",
      "execution_count": null,
      "metadata": {
        "id": "uzCwoGtJwXT_",
        "colab": {
          "base_uri": "https://localhost:8080/"
        },
        "outputId": "6bf26f0a-d1d2-4e85-b1cc-309a6ae3396a"
      },
      "outputs": [
        {
          "output_type": "stream",
          "name": "stdout",
          "text": [
            "               0         1         2         3         4         5         6  \\\n",
            "0       0.383960 -1.648569 -1.842431  0.097582 -0.481787 -0.513258  0.257465   \n",
            "1      -0.867716 -1.311469 -0.799031  0.071044 -1.512657 -0.085711 -0.052259   \n",
            "2       0.688027 -0.683065  0.425250  1.096732  0.869300 -0.527087  0.019689   \n",
            "3       3.747466 -1.905356 -1.265087  1.470919 -0.719214 -0.278691 -0.288025   \n",
            "4      -0.870059  0.094120 -0.538614  0.538788  0.766856 -1.079779 -0.291275   \n",
            "...          ...       ...       ...       ...       ...       ...       ...   \n",
            "405115  0.110435 -0.997047 -0.259697  0.899439 -1.524317  0.800155  0.446782   \n",
            "405116  1.689041 -1.570123  0.557329 -2.087736  2.447919  1.502179 -0.137535   \n",
            "405117  5.358926 -0.835167  0.109046  0.823791  0.340952 -1.399699  0.481392   \n",
            "405118 -0.727760 -0.551444 -1.460004  0.676628 -0.592691  0.873459 -0.082068   \n",
            "405119  0.271122 -0.810058  0.485902 -1.186336  1.027336  0.087179  0.010455   \n",
            "\n",
            "               7  \n",
            "0       0.086521  \n",
            "1       0.103419  \n",
            "2       0.234664  \n",
            "3      -0.175810  \n",
            "4      -0.022084  \n",
            "...          ...  \n",
            "405115  0.048304  \n",
            "405116 -0.717236  \n",
            "405117  1.180445  \n",
            "405118 -0.076163  \n",
            "405119 -0.077870  \n",
            "\n",
            "[405120 rows x 8 columns]\n"
          ]
        }
      ],
      "source": [
        "from sklearn.preprocessing import StandardScaler\n",
        "from sklearn.model_selection import train_test_split\n",
        "print(x)\n",
        "X_train, X_test, y_train, y_test = train_test_split(x, y, random_state=17)"
      ]
    },
    {
      "cell_type": "code",
      "execution_count": null,
      "metadata": {
        "id": "01b41vXdFwKK"
      },
      "outputs": [],
      "source": [
        "X_train = X_train.values\n",
        "X_test = X_test.values\n",
        "\n",
        "X_train = X_train.reshape(-1, X_train.shape[1],1)\n",
        "X_test = X_test.reshape(-1, X_test.shape[1],1)"
      ]
    },
    {
      "cell_type": "code",
      "execution_count": null,
      "metadata": {
        "id": "Ys6QLpQqIzp5",
        "colab": {
          "base_uri": "https://localhost:8080/"
        },
        "outputId": "4c2a5c05-8255-46df-de41-378099fee8cb"
      },
      "outputs": [
        {
          "output_type": "stream",
          "name": "stdout",
          "text": [
            "(303840, 8, 1)\n",
            "(101280, 8, 1)\n"
          ]
        }
      ],
      "source": [
        "print(X_train.shape)\n",
        "print(X_test.shape)"
      ]
    },
    {
      "cell_type": "markdown",
      "metadata": {
        "id": "iirR4KQzLEO-"
      },
      "source": [
        "0.211111111\n",
        "Convert the Target label to categorical"
      ]
    },
    {
      "cell_type": "code",
      "execution_count": null,
      "metadata": {
        "id": "Tao2fGogFyCf"
      },
      "outputs": [],
      "source": [
        "target_train = y_train\n",
        "target_test = y_test\n",
        "Y_train=to_categorical(target_train)\n",
        "Y_test=to_categorical(target_test)"
      ]
    },
    {
      "cell_type": "code",
      "execution_count": null,
      "metadata": {
        "id": "kU46s9VkJVWL",
        "colab": {
          "base_uri": "https://localhost:8080/"
        },
        "outputId": "1d360f1b-1f6f-48d2-d296-eb7e470da6b0"
      },
      "outputs": [
        {
          "output_type": "stream",
          "name": "stdout",
          "text": [
            "(303840, 2)\n",
            "(101280, 2)\n"
          ]
        }
      ],
      "source": [
        "print(Y_train.shape)\n",
        "print(Y_test.shape)"
      ]
    },
    {
      "cell_type": "markdown",
      "metadata": {
        "id": "Pg_GT3ZKLIHC"
      },
      "source": [
        "Performance Evaluation Function"
      ]
    },
    {
      "cell_type": "code",
      "source": [
        "from sklearn import metrics\n",
        "from sklearn.metrics import confusion_matrix, ConfusionMatrixDisplay"
      ],
      "metadata": {
        "id": "0QmHjErd_75T"
      },
      "execution_count": null,
      "outputs": []
    },
    {
      "cell_type": "code",
      "execution_count": null,
      "metadata": {
        "id": "CXhKBafzV_g8"
      },
      "outputs": [],
      "source": [
        "def showResults(test, pred):\n",
        "    #target_names = ['positive', 'negative']\n",
        "    # print(classification_report(test, pred, target_names=target_names))\n",
        "    accuracy = accuracy_score(test, pred)\n",
        "    precision=precision_score(test, pred, average='weighted')\n",
        "    f1Score=f1_score(test, pred, average='weighted')\n",
        "    #loss=log_loss(test,pred)\n",
        "    print(\"Accuracy  : {}\".format(accuracy))\n",
        "    print(\"Precision : {}\".format(precision))\n",
        "    print(\"f1Score : {}\".format(f1Score))\n",
        "    #print(\"Loss : {}\".format(loss))\n",
        "    cm=confusion_matrix(test, pred)\n",
        "\n",
        "    print(cm)"
      ]
    },
    {
      "cell_type": "markdown",
      "metadata": {
        "id": "WSKlP9LiHHGd"
      },
      "source": [
        "Model Defination"
      ]
    },
    {
      "cell_type": "code",
      "execution_count": null,
      "metadata": {
        "id": "e9skz2VpNmWs",
        "colab": {
          "base_uri": "https://localhost:8080/"
        },
        "outputId": "c1c4dd9a-951e-4ada-95f6-93ec65a81759"
      },
      "outputs": [
        {
          "output_type": "stream",
          "name": "stdout",
          "text": [
            "Model: \"sequential\"\n",
            "_________________________________________________________________\n",
            " Layer (type)                Output Shape              Param #   \n",
            "=================================================================\n",
            " conv1d (Conv1D)             (None, 7, 128)            384       \n",
            "                                                                 \n",
            " max_pooling1d (MaxPooling1D  (None, 3, 128)           0         \n",
            " )                                                               \n",
            "                                                                 \n",
            " dropout (Dropout)           (None, 3, 128)            0         \n",
            "                                                                 \n",
            " flatten (Flatten)           (None, 384)               0         \n",
            "                                                                 \n",
            " dense (Dense)               (None, 64)                24640     \n",
            "                                                                 \n",
            " dense_1 (Dense)             (None, 32)                2080      \n",
            "                                                                 \n",
            " dense_2 (Dense)             (None, 2)                 66        \n",
            "                                                                 \n",
            "=================================================================\n",
            "Total params: 27,170\n",
            "Trainable params: 27,170\n",
            "Non-trainable params: 0\n",
            "_________________________________________________________________\n"
          ]
        }
      ],
      "source": [
        "verbose, epoch, batch_size = 1, 100, 32\n",
        "activationFunction='relu'\n",
        "\n",
        "def getModel():\n",
        "\n",
        "    cnnmodel = Sequential()\n",
        "    #cnnmodel.add(Conv1D(filters=256, kernel_size=2, activation='relu'))\n",
        "    #cnnmodel.add(MaxPooling1D(pool_size=2))\n",
        "    cnnmodel.add(Conv1D(filters=128, kernel_size=2, activation='relu',input_shape=(X_train.shape[1],X_train.shape[2])))\n",
        "    cnnmodel.add(MaxPooling1D(pool_size=2))\n",
        "    cnnmodel.add(Dropout(rate=0.2))\n",
        "    cnnmodel.add(Flatten())\n",
        "    cnnmodel.add(Dense(64, activation='relu'))\n",
        "    cnnmodel.add(Dense(32, activation='relu'))\n",
        "    cnnmodel.add(Dense(2, activation='softmax'))\n",
        "    cnnmodel.compile(optimizer='adam', loss='categorical_crossentropy',metrics=['accuracy'])\n",
        "    cnnmodel.summary()\n",
        "    return cnnmodel\n",
        "\n",
        "cnnmodel = getModel()"
      ]
    },
    {
      "cell_type": "code",
      "execution_count": null,
      "metadata": {
        "id": "QjBhHoOiOrbn",
        "colab": {
          "base_uri": "https://localhost:8080/"
        },
        "outputId": "d26c0ad0-ff5e-421d-dcd2-42a7c1c2a44e"
      },
      "outputs": [
        {
          "output_type": "stream",
          "name": "stdout",
          "text": [
            "Epoch 1/10\n",
            "2/2 [==============================] - 8s 6s/step - loss: 0.6904 - accuracy: 0.5312 - val_loss: 0.6531 - val_accuracy: 0.8177\n",
            "Epoch 2/10\n",
            "2/2 [==============================] - 3s 3s/step - loss: 0.6575 - accuracy: 0.7500 - val_loss: 0.6100 - val_accuracy: 0.8927\n",
            "Epoch 3/10\n",
            "2/2 [==============================] - 3s 3s/step - loss: 0.5989 - accuracy: 0.8125 - val_loss: 0.5635 - val_accuracy: 0.8675\n",
            "Epoch 4/10\n",
            "2/2 [==============================] - 3s 3s/step - loss: 0.5748 - accuracy: 0.7969 - val_loss: 0.5183 - val_accuracy: 0.8264\n",
            "Epoch 5/10\n",
            "2/2 [==============================] - 3s 3s/step - loss: 0.5219 - accuracy: 0.8125 - val_loss: 0.4755 - val_accuracy: 0.8049\n",
            "Epoch 6/10\n",
            "2/2 [==============================] - 5s 5s/step - loss: 0.4855 - accuracy: 0.7812 - val_loss: 0.4342 - val_accuracy: 0.8107\n",
            "Epoch 7/10\n",
            "2/2 [==============================] - 3s 3s/step - loss: 0.4197 - accuracy: 0.8438 - val_loss: 0.3929 - val_accuracy: 0.8513\n",
            "Epoch 8/10\n",
            "2/2 [==============================] - 3s 3s/step - loss: 0.4397 - accuracy: 0.7656 - val_loss: 0.3503 - val_accuracy: 0.9023\n",
            "Epoch 9/10\n",
            "2/2 [==============================] - 5s 5s/step - loss: 0.3128 - accuracy: 0.9062 - val_loss: 0.3106 - val_accuracy: 0.9299\n",
            "Epoch 10/10\n",
            "2/2 [==============================] - 2s 2s/step - loss: 0.3091 - accuracy: 0.9531 - val_loss: 0.2759 - val_accuracy: 0.9536\n"
          ]
        }
      ],
      "source": [
        "modelhistory= cnnmodel.fit(X_train, Y_train, epochs=10,steps_per_epoch=2, verbose=verbose, validation_split=0.2, batch_size = batch_size)"
      ]
    },
    {
      "cell_type": "markdown",
      "metadata": {
        "id": "mbfu1pNRHsIP"
      },
      "source": [
        "Plot the Training Accuracy and Loss"
      ]
    },
    {
      "cell_type": "code",
      "execution_count": null,
      "metadata": {
        "id": "hapSq_TXUuiz",
        "colab": {
          "base_uri": "https://localhost:8080/",
          "height": 927
        },
        "outputId": "4033d56d-74a4-40fc-9079-b617cf44fa7c"
      },
      "outputs": [
        {
          "output_type": "display_data",
          "data": {
            "text/plain": [
              "<Figure size 640x480 with 1 Axes>"
            ],
            "image/png": "[encoded data removed]"
          },
          "metadata": {}
        },
        {
          "output_type": "display_data",
          "data": {
            "text/plain": [
              "<Figure size 640x480 with 1 Axes>"
            ],
            "image/png": "[encoded data removed]"
          },
          "metadata": {}
        }
      ],
      "source": [
        "# Plot training & validation loss values\n",
        "plt.plot(modelhistory.history['loss'])\n",
        "plt.plot(modelhistory.history['val_loss'])\n",
        "plt.title('Model loss')\n",
        "plt.ylabel('Loss')\n",
        "plt.xlabel('Epoch')\n",
        "plt.legend(['Train', 'Validation'], loc='upper left')\n",
        "plt.savefig('loss.png', format='png', dpi=1200)\n",
        "plt.show()\n",
        "\n",
        "\n",
        "# Plot training & validation accuracy values\n",
        "plt.plot(modelhistory.history['accuracy'])\n",
        "plt.plot(modelhistory.history['val_accuracy'])\n",
        "plt.title('Model accuracy')\n",
        "plt.ylabel('Accuracy')\n",
        "plt.xlabel('Epoch')\n",
        "plt.legend(['Train', 'Validation'], loc='upper left')\n",
        "plt.savefig('accuracy.png', format='png', dpi=1200)\n",
        "plt.show()"
      ]
    },
    {
      "cell_type": "markdown",
      "metadata": {
        "id": "Ne0G7bWsH3We"
      },
      "source": [
        "Test the Model"
      ]
    },
    {
      "cell_type": "code",
      "execution_count": null,
      "metadata": {
        "id": "QHOqPHXUVG4v",
        "colab": {
          "base_uri": "https://localhost:8080/"
        },
        "outputId": "12f4fd93-4e2f-4ada-d30e-6af85781fc08"
      },
      "outputs": [
        {
          "output_type": "stream",
          "name": "stdout",
          "text": [
            "3165/3165 [==============================] - 5s 2ms/step\n"
          ]
        }
      ],
      "source": [
        "cnnpredictions = cnnmodel.predict(X_test, verbose=1)"
      ]
    },
    {
      "cell_type": "markdown",
      "metadata": {
        "id": "cQR87UgXH46H"
      },
      "source": [
        "Evaluate the Performance"
      ]
    },
    {
      "cell_type": "code",
      "execution_count": null,
      "metadata": {
        "id": "xTUM_qgKWXu3",
        "colab": {
          "base_uri": "https://localhost:8080/"
        },
        "outputId": "05afb52e-a933-43cb-f32e-98d6bb588ca9"
      },
      "outputs": [
        {
          "output_type": "stream",
          "name": "stdout",
          "text": [
            "Accuracy  : 0.9546208530805688\n",
            "Precision : 0.957136261325759\n",
            "f1Score : 0.9527443711227928\n",
            "[[78318     0]\n",
            " [ 4596 18366]]\n"
          ]
        }
      ],
      "source": [
        "cnn_predict=np.argmax(cnnpredictions,axis=1)\n",
        "cnn_actual_value=np.argmax(Y_test,axis=1)\n",
        "showResults(cnn_actual_value, cnn_predict)"
      ]
    },
    {
      "cell_type": "code",
      "execution_count": null,
      "metadata": {
        "id": "g9VH8FvTwXUE"
      },
      "outputs": [],
      "source": [
        "cnn = accuracy_score(cnn_actual_value, cnn_predict)\n",
        "f1cnn=f1_score(cnn_actual_value, cnn_predict, average='weighted')"
      ]
    },
    {
      "cell_type": "markdown",
      "metadata": {
        "id": "tpfEQWDKQnJp"
      },
      "source": [
        "# **Hybrid CNN LSTM**"
      ]
    },
    {
      "cell_type": "code",
      "execution_count": null,
      "metadata": {
        "id": "c25hK2HFNz5S",
        "colab": {
          "base_uri": "https://localhost:8080/"
        },
        "outputId": "503b3d85-d833-4749-9081-8a874641bb90"
      },
      "outputs": [
        {
          "output_type": "stream",
          "name": "stdout",
          "text": [
            "Model: \"sequential\"\n",
            "_________________________________________________________________\n",
            " Layer (type)                Output Shape              Param #   \n",
            "=================================================================\n",
            " conv1d (Conv1D)             (None, 8, 64)             384       \n",
            "                                                                 \n",
            " max_pooling1d (MaxPooling1D  (None, 7, 64)            0         \n",
            " )                                                               \n",
            "                                                                 \n",
            " conv1d_1 (Conv1D)           (None, 7, 32)             6176      \n",
            "                                                                 \n",
            " max_pooling1d_1 (MaxPooling  (None, 6, 32)            0         \n",
            " 1D)                                                             \n",
            "                                                                 \n",
            " lstm (LSTM)                 (None, 6, 128)            82432     \n",
            "                                                                 \n",
            " flatten (Flatten)           (None, 768)               0         \n",
            "                                                                 \n",
            " dense (Dense)               (None, 128)               98432     \n",
            "                                                                 \n",
            " dropout (Dropout)           (None, 128)               0         \n",
            "                                                                 \n",
            " dense_1 (Dense)             (None, 32)                4128      \n",
            "                                                                 \n",
            " dropout_1 (Dropout)         (None, 32)                0         \n",
            "                                                                 \n",
            " dense_2 (Dense)             (None, 2)                 66        \n",
            "                                                                 \n",
            "=================================================================\n",
            "Total params: 191,618\n",
            "Trainable params: 191,618\n",
            "Non-trainable params: 0\n",
            "_________________________________________________________________\n"
          ]
        }
      ],
      "source": [
        "import tensorflow as tf\n",
        "tf.keras.backend.clear_session()\n",
        "\n",
        "model = tf.keras.models.Sequential([tf.keras.layers.Conv1D(filters=64,kernel_size=5,strides=1,padding=\"causal\",activation=\"relu\",input_shape=(X_train.shape[1],X_train.shape[2])),\n",
        "    tf.keras.layers.MaxPooling1D(pool_size=2, strides=1, padding=\"valid\"),\n",
        "    tf.keras.layers.Conv1D(filters=32, kernel_size=3, strides=1, padding=\"causal\", activation=\"relu\"),\n",
        "    tf.keras.layers.MaxPooling1D(pool_size=2, strides=1, padding=\"valid\"),\n",
        "    tf.keras.layers.LSTM(128, return_sequences=True),\n",
        "    tf.keras.layers.Flatten(),\n",
        "    tf.keras.layers.Dense(128, activation=\"relu\"),\n",
        "    tf.keras.layers.Dropout(0.2),\n",
        "    tf.keras.layers.Dense(32, activation=\"relu\"),\n",
        "    tf.keras.layers.Dropout(0.1),\n",
        "    tf.keras.layers.Dense(2)\n",
        "])\n",
        "\n",
        "lr_schedule = tf.keras.optimizers.schedules.ExponentialDecay(5e-4,\n",
        "                                                             decay_steps=1000000,\n",
        "                                                             decay_rate=0.98,\n",
        "                                                             staircase=False)\n",
        "\n",
        "model.compile(loss=tf.keras.losses.MeanSquaredError(),\n",
        "              optimizer=tf.keras.optimizers.SGD(learning_rate=lr_schedule, momentum=0.8),\n",
        "              metrics=['acc'])\n",
        "model.summary()"
      ]
    },
    {
      "cell_type": "code",
      "execution_count": null,
      "metadata": {
        "id": "hrkM7YeSNz5T",
        "colab": {
          "base_uri": "https://localhost:8080/"
        },
        "outputId": "37002de6-c2b0-4644-f165-3e0ac41f90c1"
      },
      "outputs": [
        {
          "output_type": "stream",
          "name": "stdout",
          "text": [
            "Epoch 1/10\n",
            "400/400 [==============================] - 54s 126ms/step - loss: 0.2361 - acc: 0.7716\n",
            "Epoch 2/10\n",
            "400/400 [==============================] - 51s 127ms/step - loss: 0.1564 - acc: 0.7717\n",
            "Epoch 3/10\n",
            "400/400 [==============================] - 52s 129ms/step - loss: 0.1253 - acc: 0.7793\n",
            "Epoch 4/10\n",
            "400/400 [==============================] - 53s 132ms/step - loss: 0.0955 - acc: 0.8694\n",
            "Epoch 5/10\n",
            "400/400 [==============================] - 52s 130ms/step - loss: 0.0770 - acc: 0.9220\n",
            "Epoch 6/10\n",
            "400/400 [==============================] - 50s 126ms/step - loss: 0.0660 - acc: 0.9319\n",
            "Epoch 7/10\n",
            "400/400 [==============================] - 52s 131ms/step - loss: 0.0587 - acc: 0.9356\n",
            "Epoch 8/10\n",
            "400/400 [==============================] - 51s 126ms/step - loss: 0.0538 - acc: 0.9383\n",
            "Epoch 9/10\n",
            "400/400 [==============================] - 52s 131ms/step - loss: 0.0503 - acc: 0.9419\n",
            "Epoch 10/10\n",
            "400/400 [==============================] - 52s 131ms/step - loss: 0.0477 - acc: 0.9449\n"
          ]
        }
      ],
      "source": [
        "history = model.fit(X_train, Y_train,epochs=10,steps_per_epoch=400)"
      ]
    },
    {
      "cell_type": "code",
      "execution_count": null,
      "metadata": {
        "id": "6iXwLjN0R52X",
        "colab": {
          "base_uri": "https://localhost:8080/",
          "height": 927
        },
        "outputId": "59f396d0-dcda-4c7b-b01a-e60fd892a0b8"
      },
      "outputs": [
        {
          "output_type": "display_data",
          "data": {
            "text/plain": [
              "<Figure size 640x480 with 1 Axes>"
            ],
            "image/png": "[encoded data removed]"
          },
          "metadata": {}
        },
        {
          "output_type": "display_data",
          "data": {
            "text/plain": [
              "<Figure size 640x480 with 1 Axes>"
            ],
            "image/png": "[encoded data removed]"
          },
          "metadata": {}
        }
      ],
      "source": [
        "# Plot training & validation loss values\n",
        "plt.plot(history.history['loss'])\n",
        "plt.title('Model loss')\n",
        "plt.ylabel('Loss')\n",
        "plt.xlabel('Epoch')\n",
        "plt.legend(['Train', 'Validation'], loc='upper left')\n",
        "plt.savefig('loss.png', format='png', dpi=1200)\n",
        "plt.show()\n",
        "\n",
        "\n",
        "# Plot training & validation accuracy values\n",
        "plt.plot(history.history['acc'])\n",
        "plt.title('Model accuracy')\n",
        "plt.ylabel('Accuracy')\n",
        "plt.xlabel('Epoch')\n",
        "plt.legend(['Train', 'Validation'], loc='upper left')\n",
        "plt.savefig('accuracy.png', format='png', dpi=1200)\n",
        "plt.show()"
      ]
    },
    {
      "cell_type": "code",
      "execution_count": null,
      "metadata": {
        "id": "D7RvRFv2SXMh",
        "colab": {
          "base_uri": "https://localhost:8080/"
        },
        "outputId": "2d38dc9c-23b9-4250-c416-ae4cbfd9626c"
      },
      "outputs": [
        {
          "output_type": "stream",
          "name": "stdout",
          "text": [
            "3165/3165 [==============================] - 20s 6ms/step\n"
          ]
        }
      ],
      "source": [
        "predictions = model.predict(X_test, verbose=1)"
      ]
    },
    {
      "cell_type": "code",
      "execution_count": null,
      "metadata": {
        "id": "DchZw6KDSeaE",
        "colab": {
          "base_uri": "https://localhost:8080/"
        },
        "outputId": "eaa175bc-7fc8-4127-fae4-5a425c8ef985"
      },
      "outputs": [
        {
          "output_type": "stream",
          "name": "stdout",
          "text": [
            "Accuracy  : 0.9490718799368089\n",
            "Precision : 0.9484994490624576\n",
            "f1Score : 0.9481695945445142\n",
            "[[76810  1508]\n",
            " [ 3650 19312]]\n"
          ]
        }
      ],
      "source": [
        "predictcv=np.argmax(predictions,axis=1)\n",
        "actual_valuecv=np.argmax(Y_test,axis=1)\n",
        "showResults(actual_valuecv, predictcv)"
      ]
    },
    {
      "cell_type": "code",
      "execution_count": null,
      "metadata": {
        "id": "f5iYsbUAwXUH"
      },
      "outputs": [],
      "source": [
        "hyd = accuracy_score(actual_valuecv, predictcv)\n",
        "f1hyd=f1_score(actual_valuecv, predictcv, average='weighted')"
      ]
    },
    {
      "cell_type": "markdown",
      "metadata": {
        "id": "lo7qnuL9wXUH"
      },
      "source": [
        "# LSTM"
      ]
    },
    {
      "cell_type": "code",
      "execution_count": null,
      "metadata": {
        "id": "a2qdzKQ4wXUH"
      },
      "outputs": [],
      "source": [
        "from keras.callbacks import EarlyStopping\n",
        "import math\n",
        "from keras.models import Sequential\n",
        "from keras.layers.core import Dense,Activation,Dropout\n",
        "from keras.layers import LSTM"
      ]
    },
    {
      "cell_type": "code",
      "execution_count": null,
      "metadata": {
        "id": "k4Dch0UIwXUH",
        "colab": {
          "base_uri": "https://localhost:8080/"
        },
        "outputId": "d95f44e3-2b90-4c14-a8fa-96c51436861f"
      },
      "outputs": [
        {
          "output_type": "stream",
          "name": "stdout",
          "text": [
            "Model: \"sequential_1\"\n",
            "_________________________________________________________________\n",
            " Layer (type)                Output Shape              Param #   \n",
            "=================================================================\n",
            " lstm_1 (LSTM)               (None, 13)                780       \n",
            "                                                                 \n",
            " dense_3 (Dense)             (None, 2)                 28        \n",
            "                                                                 \n",
            " activation (Activation)     (None, 2)                 0         \n",
            "                                                                 \n",
            "=================================================================\n",
            "Total params: 808\n",
            "Trainable params: 808\n",
            "Non-trainable params: 0\n",
            "_________________________________________________________________\n"
          ]
        }
      ],
      "source": [
        "es=EarlyStopping(patience=7)\n",
        "model=Sequential()\n",
        "model.add(LSTM(13,input_shape=(X_train.shape[1],X_train.shape[2])))\n",
        "model.add(Dense(units=2))\n",
        "model.add(Activation('sigmoid'))\n",
        "model.compile(loss=tf.keras.losses.MeanSquaredError(),\n",
        "              optimizer=tf.keras.optimizers.SGD(learning_rate=lr_schedule, momentum=0.8),\n",
        "              metrics=['acc'])\n",
        "model.summary()"
      ]
    },
    {
      "cell_type": "code",
      "execution_count": null,
      "metadata": {
        "id": "DBMZ_liYwXUI",
        "colab": {
          "base_uri": "https://localhost:8080/"
        },
        "outputId": "dede90a9-498c-4563-a929-70c4efaa8485"
      },
      "outputs": [
        {
          "output_type": "stream",
          "name": "stdout",
          "text": [
            "Epoch 1/10\n",
            "200/200 [==============================] - 7s 18ms/step - loss: 0.2435 - acc: 0.7254\n",
            "Epoch 2/10\n",
            "200/200 [==============================] - 3s 15ms/step - loss: 0.2325 - acc: 0.7717\n",
            "Epoch 3/10\n",
            "200/200 [==============================] - 3s 16ms/step - loss: 0.2234 - acc: 0.7717\n",
            "Epoch 4/10\n",
            "200/200 [==============================] - 4s 20ms/step - loss: 0.2157 - acc: 0.7717\n",
            "Epoch 5/10\n",
            "200/200 [==============================] - 4s 19ms/step - loss: 0.2093 - acc: 0.7717\n",
            "Epoch 6/10\n",
            "200/200 [==============================] - 3s 15ms/step - loss: 0.2039 - acc: 0.7717\n",
            "Epoch 7/10\n",
            "200/200 [==============================] - 3s 15ms/step - loss: 0.1994 - acc: 0.7717\n",
            "Epoch 8/10\n",
            "200/200 [==============================] - 4s 18ms/step - loss: 0.1956 - acc: 0.7717\n",
            "Epoch 9/10\n",
            "200/200 [==============================] - 4s 22ms/step - loss: 0.1924 - acc: 0.7717\n",
            "Epoch 10/10\n",
            "200/200 [==============================] - 3s 15ms/step - loss: 0.1897 - acc: 0.7717\n"
          ]
        }
      ],
      "source": [
        "history = model.fit(X_train, Y_train,epochs=10,steps_per_epoch=200)"
      ]
    },
    {
      "cell_type": "code",
      "execution_count": null,
      "metadata": {
        "id": "krZlkhmNwXUI",
        "colab": {
          "base_uri": "https://localhost:8080/",
          "height": 927
        },
        "outputId": "5509a1ad-b969-40f6-ed85-28f6cecfafb8"
      },
      "outputs": [
        {
          "output_type": "display_data",
          "data": {
            "text/plain": [
              "<Figure size 640x480 with 1 Axes>"
            ],
            "image/png": "[encoded data removed]"
          },
          "metadata": {}
        },
        {
          "output_type": "display_data",
          "data": {
            "text/plain": [
              "<Figure size 640x480 with 1 Axes>"
            ],
            "image/png": "[encoded data removed]"
          },
          "metadata": {}
        }
      ],
      "source": [
        "# Plot training & validation loss values\n",
        "plt.plot(history.history['loss'])\n",
        "plt.title('Model loss')\n",
        "plt.ylabel('Loss')\n",
        "plt.xlabel('Epoch')\n",
        "plt.legend(['Train', 'Validation'], loc='upper left')\n",
        "plt.savefig('loss.png', format='png', dpi=1200)\n",
        "plt.show()\n",
        "\n",
        "\n",
        "# Plot training & validation accuracy values\n",
        "plt.plot(history.history['acc'])\n",
        "plt.title('Model accuracy')\n",
        "plt.ylabel('Accuracy')\n",
        "plt.xlabel('Epoch')\n",
        "plt.legend(['Train', 'Validation'], loc='upper left')\n",
        "plt.savefig('accuracy.png', format='png', dpi=1200)\n",
        "plt.show()"
      ]
    },
    {
      "cell_type": "code",
      "execution_count": null,
      "metadata": {
        "id": "e1x4xHGFwXUI",
        "colab": {
          "base_uri": "https://localhost:8080/"
        },
        "outputId": "c5288ef6-03c3-4421-f37b-1029e118823a"
      },
      "outputs": [
        {
          "output_type": "stream",
          "name": "stdout",
          "text": [
            "3165/3165 [==============================] - 8s 2ms/step\n"
          ]
        }
      ],
      "source": [
        "predictions = model.predict(X_test, verbose=1)"
      ]
    },
    {
      "cell_type": "code",
      "execution_count": null,
      "metadata": {
        "id": "GhM3Mjc4wXUI",
        "colab": {
          "base_uri": "https://localhost:8080/"
        },
        "outputId": "12917412-338a-4f8b-d013-c20ae710e885"
      },
      "outputs": [
        {
          "output_type": "stream",
          "name": "stdout",
          "text": [
            "Accuracy  : 0.7732819905213271\n",
            "Precision : 0.5979650368646258\n",
            "f1Score : 0.6744161842965878\n",
            "[[78318     0]\n",
            " [22962     0]]\n"
          ]
        },
        {
          "output_type": "stream",
          "name": "stderr",
          "text": [
            "/usr/local/lib/python3.10/dist-packages/sklearn/metrics/_classification.py:1344: UndefinedMetricWarning: Precision is ill-defined and being set to 0.0 in labels with no predicted samples. Use `zero_division` parameter to control this behavior.\n",
            "  _warn_prf(average, modifier, msg_start, len(result))\n"
          ]
        }
      ],
      "source": [
        "predictcv=np.argmax(predictions,axis=1)\n",
        "actual_valuecv=np.argmax(Y_test,axis=1)\n",
        "showResults(actual_valuecv, predictcv)"
      ]
    },
    {
      "cell_type": "code",
      "execution_count": null,
      "metadata": {
        "id": "lTcw9WVPwXUI"
      },
      "outputs": [],
      "source": [
        "lstm = accuracy_score(actual_valuecv, predictcv)\n",
        "f1lstm=f1_score(actual_valuecv, predictcv, average='weighted')"
      ]
    },
    {
      "cell_type": "markdown",
      "metadata": {
        "id": "lF-Gha42wXUJ"
      },
      "source": [
        "# BiLSTM"
      ]
    },
    {
      "cell_type": "code",
      "execution_count": null,
      "metadata": {
        "id": "TClxno2JwXUJ"
      },
      "outputs": [],
      "source": [
        "from keras.layers import Dense, Dropout, Embedding, LSTM, Bidirectional"
      ]
    },
    {
      "cell_type": "code",
      "execution_count": null,
      "metadata": {
        "id": "lqcLJNWkwXUJ"
      },
      "outputs": [],
      "source": [
        "es=EarlyStopping(patience=7)\n",
        "model=Sequential()\n",
        "model.add(Bidirectional(LSTM(13,input_shape=(X_train.shape[1],X_train.shape[2]))))\n",
        "model.add(Dense(units=2))\n",
        "model.add(Activation('sigmoid'))\n",
        "model.compile(loss=tf.keras.losses.MeanSquaredError(),\n",
        "              optimizer=tf.keras.optimizers.SGD(learning_rate=lr_schedule, momentum=0.8),\n",
        "              metrics=['acc'])\n"
      ]
    },
    {
      "cell_type": "code",
      "execution_count": null,
      "metadata": {
        "id": "JRucTEXjwXUJ",
        "scrolled": true,
        "colab": {
          "base_uri": "https://localhost:8080/"
        },
        "outputId": "437ed683-de88-47b1-9ecf-3aaea4c470c1"
      },
      "outputs": [
        {
          "output_type": "stream",
          "name": "stdout",
          "text": [
            "Epoch 1/10\n",
            "200/200 [==============================] - 9s 25ms/step - loss: 0.2513 - acc: 0.6269\n",
            "Epoch 2/10\n",
            "200/200 [==============================] - 7s 34ms/step - loss: 0.2412 - acc: 0.7305\n",
            "Epoch 3/10\n",
            "200/200 [==============================] - 5s 24ms/step - loss: 0.2325 - acc: 0.7431\n",
            "Epoch 4/10\n",
            "200/200 [==============================] - 6s 31ms/step - loss: 0.2248 - acc: 0.7517\n",
            "Epoch 5/10\n",
            "200/200 [==============================] - 6s 28ms/step - loss: 0.2181 - acc: 0.7589\n",
            "Epoch 6/10\n",
            "200/200 [==============================] - 5s 24ms/step - loss: 0.2122 - acc: 0.7662\n",
            "Epoch 7/10\n",
            "200/200 [==============================] - 7s 35ms/step - loss: 0.2071 - acc: 0.7711\n",
            "Epoch 8/10\n",
            "200/200 [==============================] - 5s 24ms/step - loss: 0.2026 - acc: 0.7710\n",
            "Epoch 9/10\n",
            "200/200 [==============================] - 5s 26ms/step - loss: 0.1987 - acc: 0.7708\n",
            "Epoch 10/10\n",
            "200/200 [==============================] - 7s 33ms/step - loss: 0.1952 - acc: 0.7708\n"
          ]
        }
      ],
      "source": [
        "history = model.fit(X_train, Y_train,epochs=10,steps_per_epoch=200)"
      ]
    },
    {
      "cell_type": "code",
      "execution_count": null,
      "metadata": {
        "id": "-68bGYBWwXUJ",
        "colab": {
          "base_uri": "https://localhost:8080/",
          "height": 927
        },
        "outputId": "30fc732a-76b8-46b7-8dd5-be5893473c7b"
      },
      "outputs": [
        {
          "output_type": "display_data",
          "data": {
            "text/plain": [
              "<Figure size 640x480 with 1 Axes>"
            ],
            "image/png": "[encoded data removed]"
          },
          "metadata": {}
        },
        {
          "output_type": "display_data",
          "data": {
            "text/plain": [
              "<Figure size 640x480 with 1 Axes>"
            ],
            "image/png": "[encoded data removed]"
          },
          "metadata": {}
        }
      ],
      "source": [
        "# Plot training & validation loss values\n",
        "plt.plot(history.history['loss'])\n",
        "plt.title('Model loss')\n",
        "plt.ylabel('Loss')\n",
        "plt.xlabel('Epoch')\n",
        "plt.legend(['Train', 'Validation'], loc='upper left')\n",
        "plt.savefig('loss.png', format='png', dpi=1200)\n",
        "plt.show()\n",
        "\n",
        "\n",
        "# Plot training & validation accuracy values\n",
        "plt.plot(history.history['acc'])\n",
        "plt.title('Model accuracy')\n",
        "plt.ylabel('Accuracy')\n",
        "plt.xlabel('Epoch')\n",
        "plt.legend(['Train', 'Validation'], loc='upper left')\n",
        "plt.savefig('accuracy.png', format='png', dpi=1200)\n",
        "plt.show()"
      ]
    },
    {
      "cell_type": "code",
      "execution_count": null,
      "metadata": {
        "id": "J-LtBo5QwXUJ",
        "colab": {
          "base_uri": "https://localhost:8080/"
        },
        "outputId": "16039ca7-9a42-4882-ca4f-e68c078969f8"
      },
      "outputs": [
        {
          "output_type": "stream",
          "name": "stdout",
          "text": [
            "3165/3165 [==============================] - 11s 3ms/step\n"
          ]
        }
      ],
      "source": [
        "predictions = model.predict(X_test, verbose=1)"
      ]
    },
    {
      "cell_type": "code",
      "execution_count": null,
      "metadata": {
        "id": "351yl2ivwXUK",
        "colab": {
          "base_uri": "https://localhost:8080/"
        },
        "outputId": "59b1b6ca-5793-4a52-bb2e-57c2b30db31e"
      },
      "outputs": [
        {
          "output_type": "stream",
          "name": "stdout",
          "text": [
            "Accuracy  : 0.7723538704581359\n",
            "Precision : 0.5978021705230001\n",
            "f1Score : 0.6739594708367532\n",
            "[[78224    94]\n",
            " [22962     0]]\n"
          ]
        }
      ],
      "source": [
        "predictcv=np.argmax(predictions,axis=1)\n",
        "actual_valuecv=np.argmax(Y_test,axis=1)\n",
        "showResults(actual_valuecv, predictcv)"
      ]
    },
    {
      "cell_type": "code",
      "execution_count": null,
      "metadata": {
        "id": "8NoNlbnVwXUK"
      },
      "outputs": [],
      "source": [
        "bilstm = accuracy_score(actual_valuecv, predictcv)\n",
        "f1bilstm=f1_score(actual_valuecv, predictcv, average='weighted')"
      ]
    },
    {
      "cell_type": "markdown",
      "metadata": {
        "id": "BOImTavNwXUK"
      },
      "source": [
        "# RNN"
      ]
    },
    {
      "cell_type": "code",
      "execution_count": null,
      "metadata": {
        "id": "e9z5W79owXUK"
      },
      "outputs": [],
      "source": [
        "from keras.layers import Dense, Dropout, Embedding, SimpleRNN"
      ]
    },
    {
      "cell_type": "code",
      "execution_count": null,
      "metadata": {
        "id": "IP3wHG0lwXUK"
      },
      "outputs": [],
      "source": [
        "es=EarlyStopping(patience=7)\n",
        "model=Sequential()\n",
        "model.add(SimpleRNN(10,input_shape=(X_train.shape[1],X_train.shape[2])))\n",
        "model.add(Dense(units=2))\n",
        "model.add(Activation('sigmoid'))\n",
        "model.compile(loss=tf.keras.losses.MeanSquaredError(),\n",
        "              optimizer=tf.keras.optimizers.SGD(learning_rate=lr_schedule, momentum=0.8),\n",
        "              metrics=['acc'])\n"
      ]
    },
    {
      "cell_type": "code",
      "execution_count": null,
      "metadata": {
        "id": "N_QRItMxwXUK",
        "colab": {
          "base_uri": "https://localhost:8080/"
        },
        "outputId": "692ae98e-bcde-4b53-fd0b-3ac6f05f7d5e"
      },
      "outputs": [
        {
          "output_type": "stream",
          "name": "stdout",
          "text": [
            "Model: \"sequential_3\"\n",
            "_________________________________________________________________\n",
            " Layer (type)                Output Shape              Param #   \n",
            "=================================================================\n",
            " simple_rnn (SimpleRNN)      (None, 10)                120       \n",
            "                                                                 \n",
            " dense_5 (Dense)             (None, 2)                 22        \n",
            "                                                                 \n",
            " activation_2 (Activation)   (None, 2)                 0         \n",
            "                                                                 \n",
            "=================================================================\n",
            "Total params: 142\n",
            "Trainable params: 142\n",
            "Non-trainable params: 0\n",
            "_________________________________________________________________\n"
          ]
        }
      ],
      "source": [
        "model.summary()"
      ]
    },
    {
      "cell_type": "code",
      "execution_count": null,
      "metadata": {
        "id": "3Y1PhMxrwXUL",
        "colab": {
          "base_uri": "https://localhost:8080/"
        },
        "outputId": "7c4a2b4b-289a-4de4-e6d4-8f7a69d57907"
      },
      "outputs": [
        {
          "output_type": "stream",
          "name": "stdout",
          "text": [
            "Epoch 1/10\n",
            "50/50 [==============================] - 2s 12ms/step - loss: 0.2401 - acc: 0.7437\n",
            "Epoch 2/10\n",
            "50/50 [==============================] - 1s 12ms/step - loss: 0.2320 - acc: 0.7863\n",
            "Epoch 3/10\n",
            "50/50 [==============================] - 1s 12ms/step - loss: 0.2248 - acc: 0.7917\n",
            "Epoch 4/10\n",
            "50/50 [==============================] - 1s 18ms/step - loss: 0.2183 - acc: 0.7986\n",
            "Epoch 5/10\n",
            "50/50 [==============================] - 1s 19ms/step - loss: 0.2124 - acc: 0.7998\n",
            "Epoch 6/10\n",
            "50/50 [==============================] - 1s 20ms/step - loss: 0.2072 - acc: 0.7969\n",
            "Epoch 7/10\n",
            "50/50 [==============================] - 1s 20ms/step - loss: 0.2025 - acc: 0.7997\n",
            "Epoch 8/10\n",
            "50/50 [==============================] - 1s 19ms/step - loss: 0.1982 - acc: 0.7987\n",
            "Epoch 9/10\n",
            "50/50 [==============================] - 1s 12ms/step - loss: 0.1942 - acc: 0.7955\n",
            "Epoch 10/10\n",
            "50/50 [==============================] - 1s 11ms/step - loss: 0.1906 - acc: 0.7948\n"
          ]
        }
      ],
      "source": [
        "history = model.fit(X_train, Y_train,epochs=10,steps_per_epoch=50 )"
      ]
    },
    {
      "cell_type": "code",
      "execution_count": null,
      "metadata": {
        "id": "6Q0yC1EDwXUL",
        "colab": {
          "base_uri": "https://localhost:8080/",
          "height": 927
        },
        "outputId": "c5c1d170-69b9-489e-aef5-ec2a02328eb0"
      },
      "outputs": [
        {
          "output_type": "display_data",
          "data": {
            "text/plain": [
              "<Figure size 640x480 with 1 Axes>"
            ],
            "image/png": "[encoded data removed]"
          },
          "metadata": {}
        },
        {
          "output_type": "display_data",
          "data": {
            "text/plain": [
              "<Figure size 640x480 with 1 Axes>"
            ],
            "image/png": "[encoded data removed]"
          },
          "metadata": {}
        }
      ],
      "source": [
        "# Plot training & validation loss values\n",
        "plt.plot(history.history['loss'])\n",
        "plt.title('Model loss')\n",
        "plt.ylabel('Loss')\n",
        "plt.xlabel('Epoch')\n",
        "plt.legend(['Train', 'Validation'], loc='upper left')\n",
        "plt.savefig('loss.png', format='png', dpi=1200)\n",
        "plt.show()\n",
        "\n",
        "\n",
        "# Plot training & validation accuracy values\n",
        "plt.plot(history.history['acc'])\n",
        "plt.title('Model accuracy')\n",
        "plt.ylabel('Accuracy')\n",
        "plt.xlabel('Epoch')\n",
        "plt.legend(['Train', 'Validation'], loc='upper left')\n",
        "plt.savefig('accuracy.png', format='png', dpi=1200)\n",
        "plt.show()"
      ]
    },
    {
      "cell_type": "code",
      "execution_count": null,
      "metadata": {
        "id": "FWLs3nY1wXUL",
        "colab": {
          "base_uri": "https://localhost:8080/"
        },
        "outputId": "a99fbc8a-4db3-4ca6-c596-6fabae8ffc6b"
      },
      "outputs": [
        {
          "output_type": "stream",
          "name": "stdout",
          "text": [
            "3165/3165 [==============================] - 7s 2ms/step\n"
          ]
        }
      ],
      "source": [
        "\n",
        "predictions = model.predict(X_test, verbose=1)"
      ]
    },
    {
      "cell_type": "code",
      "execution_count": null,
      "metadata": {
        "id": "LvQ6pJMywXUL",
        "colab": {
          "base_uri": "https://localhost:8080/"
        },
        "outputId": "c6e8817a-9f8e-45a9-8bb5-6651a5273aa9"
      },
      "outputs": [
        {
          "output_type": "stream",
          "name": "stdout",
          "text": [
            "Accuracy  : 0.7941251974723539\n",
            "Precision : 0.7674230711930208\n",
            "f1Score : 0.757014393382456\n",
            "[[74943  3375]\n",
            " [17476  5486]]\n"
          ]
        }
      ],
      "source": [
        "predictcv=np.argmax(predictions,axis=1)\n",
        "actual_valuecv=np.argmax(Y_test,axis=1)\n",
        "showResults(actual_valuecv, predictcv)"
      ]
    },
    {
      "cell_type": "code",
      "execution_count": null,
      "metadata": {
        "id": "cJy7UmoZwXUL"
      },
      "outputs": [],
      "source": [
        "rnn = accuracy_score(actual_valuecv, predictcv)\n",
        "f1rnn=f1_score(actual_valuecv, predictcv, average='weighted')"
      ]
    },
    {
      "cell_type": "markdown",
      "metadata": {
        "id": "5jY3hJUtwXUM"
      },
      "source": [
        "# For Machine Learning"
      ]
    },
    {
      "cell_type": "code",
      "execution_count": null,
      "metadata": {
        "id": "y7hm9_BawXUM"
      },
      "outputs": [],
      "source": [
        "from sklearn.model_selection import cross_val_score\n",
        "from sklearn.metrics import classification_report\n",
        "from sklearn.metrics import confusion_matrix\n",
        "from sklearn.metrics import accuracy_score"
      ]
    },
    {
      "cell_type": "code",
      "source": [
        "train_dof=new_df\n",
        "X = train_dof.iloc[:, :-1]\n",
        "\n",
        "y = train_dof.iloc[:,-1]\n",
        "X_train, X_test, y_train, y_test = train_test_split(X, y, random_state=1)"
      ],
      "metadata": {
        "id": "EO8X49-7jPZT"
      },
      "execution_count": null,
      "outputs": []
    },
    {
      "cell_type": "markdown",
      "metadata": {
        "id": "86lRnu_3wXUM"
      },
      "source": [
        "# Random Forest"
      ]
    },
    {
      "cell_type": "code",
      "source": [
        "print(X_train.shape)\n"
      ],
      "metadata": {
        "id": "nxKOxgVDxVIh",
        "colab": {
          "base_uri": "https://localhost:8080/"
        },
        "outputId": "ab5a5541-109d-4ad7-9fc6-0eff84adc8a5"
      },
      "execution_count": null,
      "outputs": [
        {
          "output_type": "stream",
          "name": "stdout",
          "text": [
            "(303840, 8)\n"
          ]
        }
      ]
    },
    {
      "cell_type": "code",
      "execution_count": null,
      "metadata": {
        "id": "KPWJ-JkdwXUM",
        "colab": {
          "base_uri": "https://localhost:8080/"
        },
        "outputId": "0c4b259e-27c3-472d-be21-0f9c7c009598"
      },
      "outputs": [
        {
          "output_type": "stream",
          "name": "stdout",
          "text": [
            "*Confusion Matrix for RF: \n"
          ]
        }
      ],
      "source": [
        "from sklearn.ensemble import RandomForestClassifier\n",
        "RF = RandomForestClassifier()\n",
        "RF.fit(X_train, y_train)\n",
        "predictions = RF.predict(X_test)\n",
        "print(\"*Confusion Matrix for RF: \")\n"
      ]
    },
    {
      "cell_type": "code",
      "source": [
        "cm = confusion_matrix(y_test, predictions)\n",
        "ConfusionMatrixDisplay(cm).plot()\n"
      ],
      "metadata": {
        "id": "UdCKeIJ2UAji",
        "colab": {
          "base_uri": "https://localhost:8080/",
          "height": 466
        },
        "outputId": "3b5ccbb3-7d98-4c32-866f-bbea70ec1351"
      },
      "execution_count": null,
      "outputs": [
        {
          "output_type": "execute_result",
          "data": {
            "text/plain": [
              "<sklearn.metrics._plot.confusion_matrix.ConfusionMatrixDisplay at 0x7f482197a5f0>"
            ]
          },
          "metadata": {},
          "execution_count": 58
        },
        {
          "output_type": "display_data",
          "data": {
            "text/plain": [
              "<Figure size 640x480 with 2 Axes>"
            ],
            "image/png": "[encoded data removed]"
          },
          "metadata": {}
        }
      ]
    },
    {
      "cell_type": "code",
      "execution_count": null,
      "metadata": {
        "id": "8dB3uHOrwXUN",
        "colab": {
          "base_uri": "https://localhost:8080/"
        },
        "outputId": "664a12f9-9836-477b-b377-1fc552b1ea0c"
      },
      "outputs": [
        {
          "output_type": "stream",
          "name": "stdout",
          "text": [
            "*Classification report for RF: \n",
            "              precision    recall  f1-score   support\n",
            "\n",
            "           0       1.00      1.00      1.00     78177\n",
            "           1       1.00      1.00      1.00     23103\n",
            "\n",
            "    accuracy                           1.00    101280\n",
            "   macro avg       1.00      1.00      1.00    101280\n",
            "weighted avg       1.00      1.00      1.00    101280\n",
            "\n"
          ]
        }
      ],
      "source": [
        "print(\"*Classification report for RF: \")\n",
        "print(classification_report(y_test, predictions))"
      ]
    },
    {
      "cell_type": "code",
      "execution_count": null,
      "metadata": {
        "id": "64iY0MjTwXUN",
        "colab": {
          "base_uri": "https://localhost:8080/"
        },
        "outputId": "42371a59-136a-44e0-e0b1-da373409c8dc"
      },
      "outputs": [
        {
          "output_type": "stream",
          "name": "stdout",
          "text": [
            "99.83708530805687\n"
          ]
        }
      ],
      "source": [
        "val1 = accuracy_score(y_test, predictions) *100\n",
        "print(val1)"
      ]
    },
    {
      "cell_type": "code",
      "execution_count": null,
      "metadata": {
        "id": "453a16AjwXUN",
        "colab": {
          "base_uri": "https://localhost:8080/"
        },
        "outputId": "a228651c-01a4-4e55-b479-48262438cb42"
      },
      "outputs": [
        {
          "output_type": "stream",
          "name": "stdout",
          "text": [
            "0.9983705174550406\n"
          ]
        }
      ],
      "source": [
        "f1rf = f1_score(y_test, predictions, average='weighted')\n",
        "print(f1rf)"
      ]
    },
    {
      "cell_type": "markdown",
      "metadata": {
        "id": "rzUeHuP-wXUN"
      },
      "source": [
        "# Decision Tree"
      ]
    },
    {
      "cell_type": "code",
      "execution_count": null,
      "metadata": {
        "id": "DToauZuJwXUN",
        "colab": {
          "base_uri": "https://localhost:8080/"
        },
        "outputId": "ec305e47-f755-4917-ba40-ff611c5f646f"
      },
      "outputs": [
        {
          "output_type": "stream",
          "name": "stdout",
          "text": [
            "*Confusion Matrix for DT: \n",
            "[[78010   167]\n",
            " [  113 22990]]\n"
          ]
        }
      ],
      "source": [
        "from sklearn import tree\n",
        "DT = tree.DecisionTreeClassifier()\n",
        "DT.fit(X_train, y_train)\n",
        "predictions = DT.predict(X_test)\n",
        "print(\"*Confusion Matrix for DT: \")\n",
        "cmd=confusion_matrix(y_test, predictions)\n",
        "print(confusion_matrix(y_test, predictions))"
      ]
    },
    {
      "cell_type": "code",
      "source": [
        "ConfusionMatrixDisplay(cmd).plot()\n"
      ],
      "metadata": {
        "id": "fB6VHCvSUOCm",
        "colab": {
          "base_uri": "https://localhost:8080/"
        },
        "outputId": "df7ec357-ecea-464d-dc39-543a2121ada8"
      },
      "execution_count": null,
      "outputs": [
        {
          "output_type": "execute_result",
          "data": {
            "text/plain": [
              "<sklearn.metrics._plot.confusion_matrix.ConfusionMatrixDisplay at 0x7f482083f6a0>"
            ]
          },
          "metadata": {},
          "execution_count": 63
        },
        {
          "output_type": "display_data",
          "data": {
            "text/plain": [
              "<Figure size 640x480 with 2 Axes>"
            ],
            "image/png": "[encoded data removed]"
          },
          "metadata": {}
        }
      ]
    },
    {
      "cell_type": "code",
      "execution_count": null,
      "metadata": {
        "id": "0unpnyaKwXUN",
        "colab": {
          "base_uri": "https://localhost:8080/"
        },
        "outputId": "566a0aca-c12a-4d8e-df45-908ee1cd5295"
      },
      "outputs": [
        {
          "output_type": "stream",
          "name": "stdout",
          "text": [
            "*Classification report for DT: \n",
            "              precision    recall  f1-score   support\n",
            "\n",
            "           0       1.00      1.00      1.00     78177\n",
            "           1       0.99      1.00      0.99     23103\n",
            "\n",
            "    accuracy                           1.00    101280\n",
            "   macro avg       1.00      1.00      1.00    101280\n",
            "weighted avg       1.00      1.00      1.00    101280\n",
            "\n"
          ]
        }
      ],
      "source": [
        "print(\"*Classification report for DT: \")\n",
        "print(classification_report(y_test, predictions))"
      ]
    },
    {
      "cell_type": "code",
      "execution_count": null,
      "metadata": {
        "id": "b4vazdPgwXUO",
        "colab": {
          "base_uri": "https://localhost:8080/"
        },
        "outputId": "cdec11ae-2105-45b6-cbe7-d0126bb51b55"
      },
      "outputs": [
        {
          "output_type": "stream",
          "name": "stdout",
          "text": [
            "99.72353870458136\n"
          ]
        }
      ],
      "source": [
        "val2 = accuracy_score(y_test, predictions) *100\n",
        "print(val2)"
      ]
    },
    {
      "cell_type": "code",
      "execution_count": null,
      "metadata": {
        "id": "25sWK4WNwXUO",
        "colab": {
          "base_uri": "https://localhost:8080/"
        },
        "outputId": "ffa6504f-a6d0-4413-aa73-c694e52a3ea0"
      },
      "outputs": [
        {
          "output_type": "stream",
          "name": "stdout",
          "text": [
            "0.9972365230608456\n"
          ]
        }
      ],
      "source": [
        "f1dt = f1_score(y_test, predictions, average='weighted')\n",
        "print(f1dt)"
      ]
    },
    {
      "cell_type": "code",
      "execution_count": null,
      "metadata": {
        "id": "zfPiyteyo3eP"
      },
      "outputs": [],
      "source": [
        "from sklearn.preprocessing import StandardScaler\n",
        "st_x= StandardScaler()\n",
        "X_train= st_x.fit_transform(X_train)\n",
        "X_test= st_x.transform(X_test)"
      ]
    },
    {
      "cell_type": "markdown",
      "metadata": {
        "id": "JsEPS5mQwXUQ"
      },
      "source": [
        "# Voting Classifier"
      ]
    },
    {
      "cell_type": "code",
      "source": [
        "from sklearn.svm import SVC\n",
        "from sklearn.tree import DecisionTreeClassifier\n",
        "from sklearn.ensemble import RandomForestClassifier, VotingClassifier\n",
        "clf2 = RandomForestClassifier(n_estimators=50, random_state=1)\n",
        "clf3 = DecisionTreeClassifier()\n",
        "eclf1 = VotingClassifier(estimators=[('rf', clf2), ('dt', clf3)], voting='hard')\n",
        "eclf1.fit(X_train, y_train)\n",
        "predictions = eclf1.predict(X_test)\n",
        "print(\"*Confusion Matrix for Voting Classifier: \")\n",
        "cmv=confusion_matrix(y_test, predictions)\n",
        "print(confusion_matrix(y_test, predictions))"
      ],
      "metadata": {
        "id": "73zUaLGYkAMp",
        "colab": {
          "base_uri": "https://localhost:8080/"
        },
        "outputId": "36e8bd96-8844-47c6-e9a7-24a71bd3c84a"
      },
      "execution_count": null,
      "outputs": [
        {
          "output_type": "stream",
          "name": "stdout",
          "text": [
            "*Confusion Matrix for Voting Classifier: \n",
            "[[78132    45]\n",
            " [  175 22928]]\n"
          ]
        }
      ]
    },
    {
      "cell_type": "code",
      "source": [
        "cmv=confusion_matrix(y_test, predictions)\n",
        "ConfusionMatrixDisplay(cmv).plot()\n"
      ],
      "metadata": {
        "id": "VCYM4fNIUd6G",
        "colab": {
          "base_uri": "https://localhost:8080/"
        },
        "outputId": "2084aec1-ace8-4872-9ecd-e1adbcf0348b"
      },
      "execution_count": null,
      "outputs": [
        {
          "output_type": "execute_result",
          "data": {
            "text/plain": [
              "<sklearn.metrics._plot.confusion_matrix.ConfusionMatrixDisplay at 0x7f48833d4f10>"
            ]
          },
          "metadata": {},
          "execution_count": 69
        },
        {
          "output_type": "display_data",
          "data": {
            "text/plain": [
              "<Figure size 640x480 with 2 Axes>"
            ],
            "image/png": "[encoded data removed]"
          },
          "metadata": {}
        }
      ]
    },
    {
      "cell_type": "code",
      "execution_count": null,
      "metadata": {
        "id": "z2kh6URNwXUQ",
        "colab": {
          "base_uri": "https://localhost:8080/"
        },
        "outputId": "ee5ee072-8ad8-45db-f1dc-1ea212230fa6"
      },
      "outputs": [
        {
          "output_type": "stream",
          "name": "stdout",
          "text": [
            "*Classification report for Voting Classifier: \n",
            "              precision    recall  f1-score   support\n",
            "\n",
            "           0       1.00      1.00      1.00     78177\n",
            "           1       1.00      0.99      1.00     23103\n",
            "\n",
            "    accuracy                           1.00    101280\n",
            "   macro avg       1.00      1.00      1.00    101280\n",
            "weighted avg       1.00      1.00      1.00    101280\n",
            "\n"
          ]
        }
      ],
      "source": [
        "print(\"*Classification report for Voting Classifier: \")\n",
        "print(classification_report(y_test, predictions))"
      ]
    },
    {
      "cell_type": "code",
      "execution_count": null,
      "metadata": {
        "id": "TT3ZdlKbwXUQ",
        "colab": {
          "base_uri": "https://localhost:8080/"
        },
        "outputId": "7c036768-cb64-4bf8-f18c-5c89ae0e5263"
      },
      "outputs": [
        {
          "output_type": "stream",
          "name": "stdout",
          "text": [
            "99.7827804107425\n"
          ]
        }
      ],
      "source": [
        "val5 = accuracy_score(y_test, predictions) *100\n",
        "print(val5)"
      ]
    },
    {
      "cell_type": "code",
      "execution_count": null,
      "metadata": {
        "id": "mf6lAokvwXUR"
      },
      "outputs": [],
      "source": [
        "f1vot = f1_score(y_test, predictions, average='weighted')\n",
        ""
      ]
    },
    {
      "cell_type": "code",
      "execution_count": null,
      "metadata": {
        "id": "g29SbK-l36LR"
      },
      "outputs": [],
      "source": [
        "\n",
        "\n",
        "\n",
        "b=float(input(\"enter CPU request of the task \"))\n",
        "a=int(input(\"enter schedling class  of the task \"))\n",
        "c=float(input(\"enter memory request of the task \"))\n",
        "d=float(input(\"enter CPU average usage of the task \"))\n",
        "e=float(input(\"enter memory average usage for the task \"))\n",
        "f=float(input(\"enter assigned memory for  the task \"))\n",
        "g=int(input(\"enter machine id  of the task \"))\n",
        "h=float(input(\"enter page cache memory of the task \"))\n",
        "i=[b,a,c,d,e,f,g,h]\n",
        "i=np.array([i])\n",
        "x=eclf1.predict(i)\n",
        "print(x)\n",
        "if(x==[0]):\n",
        "  print(\"Task executed successfully\")\n",
        "else:\n",
        "  print(\"Task Failed\")\n",
        "\n",
        "\n"
      ]
    },
    {
      "cell_type": "code",
      "execution_count": null,
      "metadata": {
        "id": "j2pqWPbDSnrf"
      },
      "outputs": [],
      "source": [
        "import numpy as np\n",
        "import matplotlib.pyplot as plt\n",
        "\n",
        "N = 8\n",
        "ind = np.arange(N)  # the x locations for the groups\n",
        "width = 0.3      # the width of the bars\n",
        "\n",
        "fig = plt.figure()\n",
        "ax = fig.add_subplot(111)\n",
        "\n",
        "yvals = [cnn*100,hyd*100,lstm*100,bilstm*100,rnn*100,val1,val2,val5]\n",
        "\n",
        "rects1 = ax.bar(ind, yvals, width, color='r')\n",
        "zvals = [f1cnn*100,f1hyd*100,f1lstm*100,f1bilstm*100,f1rnn*100,f1rf*100,f1dt*100,f1vot*100]\n",
        "rects2 = ax.bar(ind+width, zvals, width, color='g')\n",
        "\n",
        "\n",
        "ax.set_ylabel('Scores')\n",
        "ax.set_xticks(ind+width)\n",
        "ax.set_xticklabels( ('CNN','CNN+LSTM','LSTM','BiLSTM','RNN','RF','DT','Voting Classifier') )\n",
        "ax.legend( (rects1[0], rects2[0]), ('Accuracy', 'F1Score') )\n",
        "\n",
        "def autolabel(rects):\n",
        "    for rect in rects:\n",
        "        h = rect.get_height()\n",
        "        ax.text(rect.get_x()+rect.get_width()/2., 1.05*h, '%d'%int(h),\n",
        "                ha='center', va='bottom')\n",
        "\n",
        "autolabel(rects1)\n",
        "autolabel(rects2)\n",
        "\n",
        "plt.show()"
      ]
    },
    {
      "cell_type": "code",
      "source": [],
      "metadata": {
        "id": "7sqLTDgJskr2"
      },
      "execution_count": null,
      "outputs": []
    }
  ],
  "metadata": {
    "accelerator": "GPU",
    "colab": {
      "provenance": []
    },
    "gpuClass": "standard",
    "kernelspec": {
      "display_name": "Python 3",
      "language": "python",
      "name": "python3"
    },
    "language_info": {
      "codemirror_mode": {
        "name": "ipython",
        "version": 3
      },
      "file_extension": ".py",
      "mimetype": "text/x-python",
      "name": "python",
      "nbconvert_exporter": "python",
      "pygments_lexer": "ipython3",
      "version": "3.7.4"
    },
    "vscode": {
      "interpreter": {
        "hash": "31f2aee4e71d21fbe5cf8b01ff0e069b9275f58929596ceb00d14d90e3e16cd6"
      }
    }
  },
  "nbformat": 4,
  "nbformat_minor": 0
}